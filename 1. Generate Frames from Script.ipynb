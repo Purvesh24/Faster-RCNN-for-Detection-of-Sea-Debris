{
 "cells": [
  {
   "cell_type": "markdown",
   "metadata": {},
   "source": [
    "# Generate Frames from Script"
   ]
  },
  {
   "cell_type": "code",
   "execution_count": null,
   "metadata": {},
   "outputs": [],
   "source": [
    "import os\n",
    "import cv2\n",
    "from glob import glob\n",
    "import sys\n",
    "\n",
    "count = 0\n",
    "success = True\n",
    "caps = []\n",
    "DataDir = \"F:/Debri/Full Dataset/Plastic/Frames/\"\n",
    "\n",
    "\n",
    "videoList=glob(r'F:/Debri/Full Dataset/Plastic/4/*.mp4')\n",
    "print(len(videoList))\n",
    "\n",
    "print(videoList)\n",
    "\n",
    "for path in videoList:\n",
    "    vidcap = cv2.VideoCapture(path)\n",
    "    success,image = vidcap.read()\n",
    "    \n",
    "    while success:\n",
    "        success,image = vidcap.read()\n",
    "        if(count >= 150):  # Skipping first 5 seconds of videos[30 frames/sec * 5= 150]\n",
    "            if(count%20 == 0):\n",
    "                \n",
    "                cv2.imwrite(str(DataDir)+str(count)+'.jpg', image)     # save frame as JPEG file\n",
    "                print(\"Read a new frame %d:\" % count, success)\n",
    "            else:\n",
    "                print(\"file skipped %d\" % count)\n",
    "        count += 1\n",
    "  \n",
    "        \n",
    "vidcap.release()\n",
    "cv2.destroyAllWindows()\n",
    "\n"
   ]
  },
  {
   "cell_type": "markdown",
   "metadata": {},
   "source": [
    "# Rename the Frames with their respective type of classes"
   ]
  },
  {
   "cell_type": "code",
   "execution_count": null,
   "metadata": {},
   "outputs": [],
   "source": [
    "# Renaming the files based on their category name-\n",
    "\n",
    "\n",
    "# Renaming File Names\n",
    "for folder in DirList:\n",
    "    files = os.listdir(Path + \"/\" + folder)\n",
    "    for value in files:\n",
    "        os.rename(Path + \"/\" + folder + \"/\" + value, Path + \"/\" + folder + \"/\" +folder + \"-\" + value)  \n",
    "        \n",
    "        \n",
    "\n",
    "\n",
    "            "
   ]
  }
 ],
 "metadata": {
  "kernelspec": {
   "display_name": "Python 3",
   "language": "python",
   "name": "python3"
  },
  "language_info": {
   "codemirror_mode": {
    "name": "ipython",
    "version": 3
   },
   "file_extension": ".py",
   "mimetype": "text/x-python",
   "name": "python",
   "nbconvert_exporter": "python",
   "pygments_lexer": "ipython3",
   "version": "3.7.3"
  }
 },
 "nbformat": 4,
 "nbformat_minor": 2
}
