{
 "cells": [
  {
   "cell_type": "markdown",
   "metadata": {},
   "source": [
    "# Resize image for processing"
   ]
  },
  {
   "cell_type": "code",
   "execution_count": 1,
   "metadata": {},
   "outputs": [
    {
     "name": "stdout",
     "output_type": "stream",
     "text": [
      "resizing completed and GreyScale completed!\n"
     ]
    }
   ],
   "source": [
    "# Resizing the images\n",
    "\n",
    "import numpy as np\n",
    "import cv2\n",
    "import os\n",
    "\n",
    "def Img(DataDir = \"C:/Users/borka/OneDrive/Desktop/TF FULL/Annotated Dataset - Copy/Greyscale/\"):\n",
    "    return[os.path.join(DataDir, f) for f in os.listdir(DataDir) if f.endswith('jpg')]\n",
    "\n",
    "filenames = Img()\n",
    "# print(filenames)\n",
    "\n",
    "for file in filenames:\n",
    "    image = cv2.imread(file)\n",
    "    \n",
    "    resized = cv2.resize(image,(299,299))\n",
    "    \n",
    "    cv2.imwrite(file,resized)\n",
    "    \n",
    "print(\"resizing completed !\")\n",
    "    \n",
    "\n",
    "\n"
   ]
  },
  {
   "cell_type": "code",
   "execution_count": null,
   "metadata": {},
   "outputs": [],
   "source": []
  },
  {
   "cell_type": "code",
   "execution_count": null,
   "metadata": {},
   "outputs": [],
   "source": []
  },
  {
   "cell_type": "code",
   "execution_count": 47,
   "metadata": {},
   "outputs": [
    {
     "name": "stdout",
     "output_type": "stream",
     "text": [
      "resizing completed\n"
     ]
    }
   ],
   "source": []
  }
 ],
 "metadata": {
  "kernelspec": {
   "display_name": "Python 3",
   "language": "python",
   "name": "python3"
  },
  "language_info": {
   "codemirror_mode": {
    "name": "ipython",
    "version": 3
   },
   "file_extension": ".py",
   "mimetype": "text/x-python",
   "name": "python",
   "nbconvert_exporter": "python",
   "pygments_lexer": "ipython3",
   "version": "3.7.3"
  }
 },
 "nbformat": 4,
 "nbformat_minor": 2
}
