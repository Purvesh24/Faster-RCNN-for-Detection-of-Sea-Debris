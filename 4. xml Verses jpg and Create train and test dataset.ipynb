{
 "cells": [
  {
   "cell_type": "markdown",
   "metadata": {},
   "source": [
    "# Verify if there are equal number of images for xml file"
   ]
  },
  {
   "cell_type": "code",
   "execution_count": null,
   "metadata": {},
   "outputs": [],
   "source": [
    "# code to verify XML name against image name -\n",
    "\n",
    "from glob import glob\n",
    "import os\n",
    "import numpy as np\n",
    "import sys\n",
    "from os import path\n",
    "import shutil\n",
    "\n",
    "\n",
    "# Path = \"C:/Users/borka/OneDrive/Desktop/Ivan/Annotated Dataset - Copy/\"\n",
    "Path = \"C:/Users/borka/OneDrive/Desktop/Tiny Yolo/299 299/Train- 1 Class\"\n",
    "\n",
    "print(\"success\")\n",
    "DirList = os.listdir(Path)\n",
    "\n",
    "# Check if xml exists from JPG\n",
    "for folder in DirList:\n",
    "    files = os.listdir(Path + \"/\" + folder)\n",
    "    for value in files:\n",
    "        if (\".jpg\" in value):\n",
    "            xmlName = os.path.splitext(value)[0] + \".xml\"\n",
    "            # print (xmlName)\n",
    "            if not path.exists(Path + \"/\" + folder + \"/\" + xmlName):\n",
    "                print (folder + \" / \" + xmlName + \" Does not exist\")\n",
    "        elif \".xml\" in value:\n",
    "            jpgName = os.path.splitext(value)[0] + \".jpg\"\n",
    "            if not path.exists(Path + \"/\" + folder + \"/\" + jpgName):\n",
    "                print (folder + \" / \" + jpgName + \" Does not exist\")\n",
    "\n",
    "print(\"success\")\n"
   ]
  },
  {
   "cell_type": "markdown",
   "metadata": {},
   "source": [
    "# Create training and testing Dataset"
   ]
  },
  {
   "cell_type": "code",
   "execution_count": null,
   "metadata": {},
   "outputs": [],
   "source": [
    "# Creating Training and test dataset \n",
    "\n",
    "\n",
    "import random           \n",
    "for i, dir in enumerate(DirList): \n",
    "    n = 0  \n",
    "\n",
    "    imageList = glob(Path + \"/\" + dir + '/*.jpg')\n",
    "    train_count = round(len(imageList) * 0.90)\n",
    "    test_count = round(len(imageList) - train_count)\n",
    "    random.shuffle(imageList)\n",
    "    \n",
    "    for file in imageList:\n",
    "        if dir != \"Test\" and dir != \"Train\":\n",
    "            imageName = file\n",
    "            xmlName = os.path.splitext(file)[0] + \".xml\"\n",
    "            new_image_name  = file.replace(Path + \"/\" + dir, \"\") \n",
    "            new_xml_name  = new_image_name.replace(\".jpg\", \"\")\n",
    "            # print (Path + \"/\" + dir + \"/\" + new_xml_name + \".xml\")\n",
    "            # break\n",
    "            if n < train_count:\n",
    "                # print (new_image_name, ' - ', new_xml_name)\n",
    "                shutil.copyfile(imageName, Path + \"/Train/\" + new_image_name) # Copy Image\n",
    "                shutil.copyfile(Path + \"/\" + dir + \"/\" + new_xml_name + \".xml\" , Path + \"/Train/\" + new_xml_name + \".xml\") # Copy xml\n",
    "            else:\n",
    "                # print (new_image_name, ' - ', new_xml_name)\n",
    "                shutil.copyfile(imageName, Path + \"/Test/\" + new_image_name) # Copy Image\n",
    "                shutil.copyfile(Path + \"/\" + dir + \"/\" + new_xml_name + \".xml\", Path + \"/Test/\" + new_xml_name + \".xml\") # Copy xml\n",
    "\n",
    "            n = n + 1 # increment"
   ]
  }
 ],
 "metadata": {
  "kernelspec": {
   "display_name": "Python 3",
   "language": "python",
   "name": "python3"
  },
  "language_info": {
   "codemirror_mode": {
    "name": "ipython",
    "version": 3
   },
   "file_extension": ".py",
   "mimetype": "text/x-python",
   "name": "python",
   "nbconvert_exporter": "python",
   "pygments_lexer": "ipython3",
   "version": "3.7.3"
  }
 },
 "nbformat": 4,
 "nbformat_minor": 2
}
